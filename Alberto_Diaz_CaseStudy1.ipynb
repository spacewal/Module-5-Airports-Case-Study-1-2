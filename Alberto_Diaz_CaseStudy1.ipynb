{
 "cells": [
  {
   "cell_type": "code",
   "execution_count": 1,
   "id": "7a41220d-eec5-4c50-80eb-fbad991e8a6e",
   "metadata": {
    "scrolled": true,
    "tags": []
   },
   "outputs": [
    {
     "name": "stdout",
     "output_type": "stream",
     "text": [
      "1.26.0\n",
      "1.3.0\n"
     ]
    }
   ],
   "source": [
    "# Set the Environment\n",
    "# Ignore Warnings\n",
    "import warnings\n",
    "warnings.simplefilter(action='ignore', category=FutureWarning)\n",
    "import pandas as pd\n",
    "import numpy as np\n",
    "#Write out the versions of all packages to requirements.txt\n",
    "!pip freeze >> requirements.txt\n",
    "#!pip unfreeze requirements.txt\n",
    "\n",
    "# Remove the restriction on Jupyter that limits the columns displayed (the ... in the middle)\n",
    "pd.set_option('display.max_columns',None)\n",
    "# Docs: https://pandas.pydata.org/pandas-docs/stable/reference/api/pandas.set_option.html#\n",
    "\n",
    "# Pretty Display of variables.  for instance, you can call df.head() and df.tail() in the same cell and BOTH display w/o print\n",
    "from IPython.core.interactiveshell import InteractiveShell\n",
    "InteractiveShell.ast_node_interactivity = \"all\"\n",
    "\n",
    "# List of ALL Magic Commands.  To run a magic command %var  --- i.e.:  %env\n",
    "%lsmagic\n",
    "# %env  -- list environment variables\n",
    "# %%time  -- gives you information about how long a cel took to run\n",
    "# %%timeit -- runs a cell 100,000 times and then gives you the average time the cell will take to run (can be LONG)\n",
    "# %pdb -- python debugger\n",
    "\n",
    "# to display nice model diagram\n",
    "from sklearn import set_config\n",
    "set_config(display='diagram')\n",
    "\n",
    "# Python ≥3.5 is required\n",
    "import sys\n",
    "assert sys.version_info >= (3, 5)\n",
    "\n",
    "# Scikit-Learn ≥0.20 is required\n",
    "import sklearn\n",
    "assert sklearn.__version__ >= \"0.20\"\n",
    "\n",
    "print(np.__version__)\n",
    "print(sklearn.__version__)"
   ]
  },
  {
   "cell_type": "code",
   "execution_count": 2,
   "id": "1267085f-65d6-4da9-a77d-06bd4fef9133",
   "metadata": {
    "tags": []
   },
   "outputs": [],
   "source": [
    "# Standard Imports\n",
    "import pandas as pd\n",
    "import numpy as np\n",
    "import scipy.stats as stats\n",
    "import matplotlib.pyplot as plt\n",
    "import seaborn as sns\n",
    "from sklearn.model_selection import train_test_split\n",
    "from sklearn.linear_model import LogisticRegression\n",
    "from sklearn.metrics import classification_report\n",
    "%matplotlib inline"
   ]
  },
  {
   "cell_type": "code",
   "execution_count": 3,
   "id": "493bdb61-0bac-4167-88a3-264d1aa6b6bb",
   "metadata": {
    "tags": []
   },
   "outputs": [],
   "source": [
    "df = pd.read_csv(\"https://raw.githubusercontent.com/fenago/datasets/main/tsa_claims1.csv\", low_memory=False)"
   ]
  },
  {
   "cell_type": "code",
   "execution_count": 4,
   "id": "6f89eaaf-2917-48c9-a857-bcceed7a8f9f",
   "metadata": {
    "tags": []
   },
   "outputs": [
    {
     "data": {
      "text/html": [
       "<div>\n",
       "<style scoped>\n",
       "    .dataframe tbody tr th:only-of-type {\n",
       "        vertical-align: middle;\n",
       "    }\n",
       "\n",
       "    .dataframe tbody tr th {\n",
       "        vertical-align: top;\n",
       "    }\n",
       "\n",
       "    .dataframe thead th {\n",
       "        text-align: right;\n",
       "    }\n",
       "</style>\n",
       "<table border=\"1\" class=\"dataframe\">\n",
       "  <thead>\n",
       "    <tr style=\"text-align: right;\">\n",
       "      <th></th>\n",
       "      <th>Claim Number</th>\n",
       "      <th>Date Received</th>\n",
       "      <th>Incident Date</th>\n",
       "      <th>Airport Code</th>\n",
       "      <th>Airport Name</th>\n",
       "      <th>Airline Name</th>\n",
       "      <th>Claim Type</th>\n",
       "      <th>Claim Site</th>\n",
       "      <th>Item</th>\n",
       "      <th>Claim Amount</th>\n",
       "      <th>Status</th>\n",
       "      <th>Close Amount</th>\n",
       "      <th>Disposition</th>\n",
       "    </tr>\n",
       "  </thead>\n",
       "  <tbody>\n",
       "    <tr>\n",
       "      <th>0</th>\n",
       "      <td>0909802M</td>\n",
       "      <td>4-Jan-02</td>\n",
       "      <td>12/12/2002 0:00</td>\n",
       "      <td>EWR</td>\n",
       "      <td>Newark International Airport</td>\n",
       "      <td>Continental Airlines</td>\n",
       "      <td>Property Damage</td>\n",
       "      <td>Checkpoint</td>\n",
       "      <td>Other</td>\n",
       "      <td>350.00</td>\n",
       "      <td>Approved</td>\n",
       "      <td>350.00</td>\n",
       "      <td>Approve in Full</td>\n",
       "    </tr>\n",
       "    <tr>\n",
       "      <th>1</th>\n",
       "      <td>0202445M</td>\n",
       "      <td>4-Feb-02</td>\n",
       "      <td>11/26/2003 0:00</td>\n",
       "      <td>STL</td>\n",
       "      <td>Lambert St. Louis International</td>\n",
       "      <td>American Airlines</td>\n",
       "      <td>Property Damage</td>\n",
       "      <td>Checked Baggage</td>\n",
       "      <td>Cell Phones</td>\n",
       "      <td>278.88</td>\n",
       "      <td>Settled</td>\n",
       "      <td>227.92</td>\n",
       "      <td>Settle</td>\n",
       "    </tr>\n",
       "    <tr>\n",
       "      <th>2</th>\n",
       "      <td>0909816M</td>\n",
       "      <td>7-Feb-02</td>\n",
       "      <td>1/6/2003 0:00</td>\n",
       "      <td>MIA</td>\n",
       "      <td>Miami International Airport</td>\n",
       "      <td>American Airlines</td>\n",
       "      <td>Property Damage</td>\n",
       "      <td>Checkpoint</td>\n",
       "      <td>Luggage (all types including footlockers)</td>\n",
       "      <td>50.00</td>\n",
       "      <td>Approved</td>\n",
       "      <td>50.00</td>\n",
       "      <td>Approve in Full</td>\n",
       "    </tr>\n",
       "    <tr>\n",
       "      <th>3</th>\n",
       "      <td>2005032379513</td>\n",
       "      <td>18-Feb-02</td>\n",
       "      <td>2/5/2005 0:00</td>\n",
       "      <td>MCO</td>\n",
       "      <td>Orlando International Airport</td>\n",
       "      <td>Delta (Song)</td>\n",
       "      <td>Property Damage</td>\n",
       "      <td>Checkpoint</td>\n",
       "      <td>Baby - Strollers; car seats; playpen; etc.</td>\n",
       "      <td>84.79</td>\n",
       "      <td>Approved</td>\n",
       "      <td>84.79</td>\n",
       "      <td>Approve in Full</td>\n",
       "    </tr>\n",
       "    <tr>\n",
       "      <th>4</th>\n",
       "      <td>2005032479636</td>\n",
       "      <td>18-Feb-02</td>\n",
       "      <td>2/17/2005 0:00</td>\n",
       "      <td>CAK</td>\n",
       "      <td>Akron-Canton Regional</td>\n",
       "      <td>Air Tran Airlines(do not use)</td>\n",
       "      <td>Passenger Property Loss</td>\n",
       "      <td>Checked Baggage</td>\n",
       "      <td>Other</td>\n",
       "      <td>459.01</td>\n",
       "      <td>Settled</td>\n",
       "      <td>227.00</td>\n",
       "      <td>Settle</td>\n",
       "    </tr>\n",
       "  </tbody>\n",
       "</table>\n",
       "</div>"
      ],
      "text/plain": [
       "    Claim Number Date Received    Incident Date Airport Code  \\\n",
       "0       0909802M      4-Jan-02  12/12/2002 0:00          EWR   \n",
       "1       0202445M      4-Feb-02  11/26/2003 0:00          STL   \n",
       "2       0909816M      7-Feb-02    1/6/2003 0:00          MIA   \n",
       "3  2005032379513     18-Feb-02    2/5/2005 0:00          MCO   \n",
       "4  2005032479636     18-Feb-02   2/17/2005 0:00          CAK   \n",
       "\n",
       "                      Airport Name                   Airline Name  \\\n",
       "0     Newark International Airport           Continental Airlines   \n",
       "1  Lambert St. Louis International              American Airlines   \n",
       "2      Miami International Airport              American Airlines   \n",
       "3    Orlando International Airport                   Delta (Song)   \n",
       "4            Akron-Canton Regional  Air Tran Airlines(do not use)   \n",
       "\n",
       "                Claim Type       Claim Site  \\\n",
       "0          Property Damage       Checkpoint   \n",
       "1          Property Damage  Checked Baggage   \n",
       "2          Property Damage       Checkpoint   \n",
       "3          Property Damage       Checkpoint   \n",
       "4  Passenger Property Loss  Checked Baggage   \n",
       "\n",
       "                                         Item  Claim Amount    Status  \\\n",
       "0                                       Other        350.00  Approved   \n",
       "1                                 Cell Phones        278.88   Settled   \n",
       "2   Luggage (all types including footlockers)         50.00  Approved   \n",
       "3  Baby - Strollers; car seats; playpen; etc.         84.79  Approved   \n",
       "4                                       Other        459.01   Settled   \n",
       "\n",
       "   Close Amount      Disposition  \n",
       "0        350.00  Approve in Full  \n",
       "1        227.92           Settle  \n",
       "2         50.00  Approve in Full  \n",
       "3         84.79  Approve in Full  \n",
       "4        227.00           Settle  "
      ]
     },
     "execution_count": 4,
     "metadata": {},
     "output_type": "execute_result"
    }
   ],
   "source": [
    "df.head()"
   ]
  },
  {
   "cell_type": "markdown",
   "id": "9e37b055-a236-4d61-8dec-171aecf30229",
   "metadata": {
    "tags": []
   },
   "source": [
    "# Insurance Claim Data Analysis\n",
    "\n",
    "## Questions and Corresponding Columns\n",
    "\n",
    "1. **What is the most common type of insurance claim?**\n",
    "   - *Relevant Column:* `Claim Type`\n",
    "\n",
    "2. **Which claim site within the airport are claims most commonly filed for?**\n",
    "   - *Relevant Columns:* `Claim Site`\n",
    "\n",
    "3. **What type of claim is made most at each claim site?**\n",
    "   - *Relevant Columns:* `Claim Site`, `Claim Type`\n",
    "\n",
    "4. **What is the typical claim amount?**\n",
    "   - *Relevant Column:* `Claim Amount`\n",
    "\n",
    "5. **What is the overall claim approval rate for the entire U.S.?**\n",
    "   - *Relevant Column:* `Status`"
   ]
  },
  {
   "cell_type": "markdown",
   "id": "a0973d22-9636-4116-978d-27c69170f318",
   "metadata": {},
   "source": [
    "## Columns to be Deleted and Rationale\n",
    "\n",
    "- **Date Received**: Deleted because it does not contribute to the specific questions being asked about types of claims, locations, and amounts, unless the analysis requires time-based trends.\n",
    "\n",
    "- **Incident Date**: Deleted for the same reason as 'Date Received'; it is not necessary for the current questions unless the analysis is time-bound.\n",
    "\n",
    "- **Airline Name**: Deleted as it does not pertain to the nature of claims, their location within the airport, or the approval rate which are the focus of the questions.\n",
    "\n",
    "- **Close Amount**: While this provides information on the settled claim amount, it is not essential for determining the typical claim amount or the approval rate based on the questions provided.\n",
    "\n",
    "- **Disposition**: This column's detail on the outcome of the claims process is more granular than required for the current questions, which focus on the approval rate rather than the type of approval or settlement."
   ]
  },
  {
   "cell_type": "code",
   "execution_count": 5,
   "id": "b4299b2c-0c89-4c0a-aaad-1dc9832622ed",
   "metadata": {
    "tags": []
   },
   "outputs": [],
   "source": [
    "# List of columns to be deleted\n",
    "columns_to_delete = ['Date Received', 'Incident Date', 'Airline Name', 'Close Amount', 'Disposition']\n",
    "\n",
    "# Delete the columns from the DataFrame\n",
    "df.drop(columns=columns_to_delete, inplace=True)"
   ]
  },
  {
   "cell_type": "code",
   "execution_count": 6,
   "id": "3c2db14a-94ed-40cd-b38c-146a4b123ab2",
   "metadata": {
    "tags": []
   },
   "outputs": [
    {
     "data": {
      "text/html": [
       "<div>\n",
       "<style scoped>\n",
       "    .dataframe tbody tr th:only-of-type {\n",
       "        vertical-align: middle;\n",
       "    }\n",
       "\n",
       "    .dataframe tbody tr th {\n",
       "        vertical-align: top;\n",
       "    }\n",
       "\n",
       "    .dataframe thead th {\n",
       "        text-align: right;\n",
       "    }\n",
       "</style>\n",
       "<table border=\"1\" class=\"dataframe\">\n",
       "  <thead>\n",
       "    <tr style=\"text-align: right;\">\n",
       "      <th></th>\n",
       "      <th>Claim Number</th>\n",
       "      <th>Airport Code</th>\n",
       "      <th>Airport Name</th>\n",
       "      <th>Claim Type</th>\n",
       "      <th>Claim Site</th>\n",
       "      <th>Item</th>\n",
       "      <th>Claim Amount</th>\n",
       "      <th>Status</th>\n",
       "    </tr>\n",
       "  </thead>\n",
       "  <tbody>\n",
       "    <tr>\n",
       "      <th>0</th>\n",
       "      <td>0909802M</td>\n",
       "      <td>EWR</td>\n",
       "      <td>Newark International Airport</td>\n",
       "      <td>Property Damage</td>\n",
       "      <td>Checkpoint</td>\n",
       "      <td>Other</td>\n",
       "      <td>350.00</td>\n",
       "      <td>Approved</td>\n",
       "    </tr>\n",
       "    <tr>\n",
       "      <th>1</th>\n",
       "      <td>0202445M</td>\n",
       "      <td>STL</td>\n",
       "      <td>Lambert St. Louis International</td>\n",
       "      <td>Property Damage</td>\n",
       "      <td>Checked Baggage</td>\n",
       "      <td>Cell Phones</td>\n",
       "      <td>278.88</td>\n",
       "      <td>Settled</td>\n",
       "    </tr>\n",
       "    <tr>\n",
       "      <th>2</th>\n",
       "      <td>0909816M</td>\n",
       "      <td>MIA</td>\n",
       "      <td>Miami International Airport</td>\n",
       "      <td>Property Damage</td>\n",
       "      <td>Checkpoint</td>\n",
       "      <td>Luggage (all types including footlockers)</td>\n",
       "      <td>50.00</td>\n",
       "      <td>Approved</td>\n",
       "    </tr>\n",
       "    <tr>\n",
       "      <th>3</th>\n",
       "      <td>2005032379513</td>\n",
       "      <td>MCO</td>\n",
       "      <td>Orlando International Airport</td>\n",
       "      <td>Property Damage</td>\n",
       "      <td>Checkpoint</td>\n",
       "      <td>Baby - Strollers; car seats; playpen; etc.</td>\n",
       "      <td>84.79</td>\n",
       "      <td>Approved</td>\n",
       "    </tr>\n",
       "    <tr>\n",
       "      <th>4</th>\n",
       "      <td>2005032479636</td>\n",
       "      <td>CAK</td>\n",
       "      <td>Akron-Canton Regional</td>\n",
       "      <td>Passenger Property Loss</td>\n",
       "      <td>Checked Baggage</td>\n",
       "      <td>Other</td>\n",
       "      <td>459.01</td>\n",
       "      <td>Settled</td>\n",
       "    </tr>\n",
       "  </tbody>\n",
       "</table>\n",
       "</div>"
      ],
      "text/plain": [
       "    Claim Number Airport Code                     Airport Name  \\\n",
       "0       0909802M          EWR     Newark International Airport   \n",
       "1       0202445M          STL  Lambert St. Louis International   \n",
       "2       0909816M          MIA      Miami International Airport   \n",
       "3  2005032379513          MCO    Orlando International Airport   \n",
       "4  2005032479636          CAK            Akron-Canton Regional   \n",
       "\n",
       "                Claim Type       Claim Site  \\\n",
       "0          Property Damage       Checkpoint   \n",
       "1          Property Damage  Checked Baggage   \n",
       "2          Property Damage       Checkpoint   \n",
       "3          Property Damage       Checkpoint   \n",
       "4  Passenger Property Loss  Checked Baggage   \n",
       "\n",
       "                                         Item  Claim Amount    Status  \n",
       "0                                       Other        350.00  Approved  \n",
       "1                                 Cell Phones        278.88   Settled  \n",
       "2   Luggage (all types including footlockers)         50.00  Approved  \n",
       "3  Baby - Strollers; car seats; playpen; etc.         84.79  Approved  \n",
       "4                                       Other        459.01   Settled  "
      ]
     },
     "execution_count": 6,
     "metadata": {},
     "output_type": "execute_result"
    }
   ],
   "source": [
    "df.head()"
   ]
  },
  {
   "cell_type": "code",
   "execution_count": 7,
   "id": "ed6c1367-ba31-4c7a-a2f0-56f51b1664f0",
   "metadata": {
    "tags": []
   },
   "outputs": [
    {
     "name": "stdout",
     "output_type": "stream",
     "text": [
      "<class 'pandas.core.frame.DataFrame'>\n",
      "RangeIndex: 94848 entries, 0 to 94847\n",
      "Data columns (total 8 columns):\n",
      " #   Column        Non-Null Count  Dtype  \n",
      "---  ------        --------------  -----  \n",
      " 0   Claim Number  94848 non-null  object \n",
      " 1   Airport Code  94848 non-null  object \n",
      " 2   Airport Name  94848 non-null  object \n",
      " 3   Claim Type    94848 non-null  object \n",
      " 4   Claim Site    94848 non-null  object \n",
      " 5   Item          94848 non-null  object \n",
      " 6   Claim Amount  94848 non-null  float64\n",
      " 7   Status        94848 non-null  object \n",
      "dtypes: float64(1), object(7)\n",
      "memory usage: 5.8+ MB\n"
     ]
    }
   ],
   "source": [
    "df.info()"
   ]
  },
  {
   "cell_type": "markdown",
   "id": "42650e72-bc42-4895-a1b2-d88f3e269557",
   "metadata": {},
   "source": [
    "## Checking for Unique Values\n",
    "\n",
    "The insights gathered from the unique value check are as follows:\n",
    "\n",
    "- **Claim Number**: This column has a unique value for each row, indicating it's a good candidate for setting as the DataFrame index.\n",
    "- **Airport Code and Airport Name**: Both columns have the same number of unique values. This suggests redundancy between the two, so for simplicity and better readability, I will delete the `Airport Code` column.\n",
    "- **Claim Type**: With only 6 unique values, this column is ideal for conversion to the `category` data type to optimize memory usage.\n",
    "- **Claim Site**: Similarly, with only 4 unique values, this column will also be converted to `category`.\n",
    "- **Status**: Having 5 unique values makes this column another candidate for conversion to `category`.\n"
   ]
  },
  {
   "cell_type": "code",
   "execution_count": 8,
   "id": "1f392945-5a77-46c7-be6f-4fab8e1e2f7a",
   "metadata": {},
   "outputs": [
    {
     "name": "stdout",
     "output_type": "stream",
     "text": [
      "Claim Number has 94848 unique values\n",
      "Airport Code has 411 unique values\n",
      "Airport Name has 411 unique values\n",
      "Claim Type has 6 unique values\n",
      "Claim Site has 4 unique values\n",
      "Item has 3072 unique values\n",
      "Status has 5 unique values\n"
     ]
    }
   ],
   "source": [
    "# To get the number of unique values for each column\n",
    "unique_counts = {col: df[col].nunique() for col in df.columns if df[col].dtype == 'object'}\n",
    "\n",
    "# Print out the number of unique values for each column\n",
    "for col, count in unique_counts.items():\n",
    "    print(f\"{col} has {count} unique values\")\n"
   ]
  },
  {
   "cell_type": "code",
   "execution_count": 9,
   "id": "f03d2887-9c88-41a0-82e4-77b5b6026ae0",
   "metadata": {
    "tags": []
   },
   "outputs": [],
   "source": [
    "df['Claim Type'] = df['Claim Type'].astype('category')\n",
    "df['Claim Site'] = df['Claim Site'].astype('category')\n",
    "df['Status'] = df['Status'].astype('category')\n"
   ]
  },
  {
   "cell_type": "code",
   "execution_count": 10,
   "id": "4325a73a-50f8-49bf-b066-5de4a1002ceb",
   "metadata": {
    "tags": []
   },
   "outputs": [],
   "source": [
    "# Set 'Claim Number' as the index of the DataFrame\n",
    "df.set_index('Claim Number', inplace=True)\n",
    "\n",
    "# Delete the 'Airport Code' column from the DataFrame\n",
    "df.drop('Airport Code', axis=1, inplace=True)\n"
   ]
  },
  {
   "cell_type": "code",
   "execution_count": 11,
   "id": "e8554a2c-5874-462b-b9e5-a80d76d108b4",
   "metadata": {
    "tags": []
   },
   "outputs": [
    {
     "data": {
      "text/html": [
       "<div>\n",
       "<style scoped>\n",
       "    .dataframe tbody tr th:only-of-type {\n",
       "        vertical-align: middle;\n",
       "    }\n",
       "\n",
       "    .dataframe tbody tr th {\n",
       "        vertical-align: top;\n",
       "    }\n",
       "\n",
       "    .dataframe thead th {\n",
       "        text-align: right;\n",
       "    }\n",
       "</style>\n",
       "<table border=\"1\" class=\"dataframe\">\n",
       "  <thead>\n",
       "    <tr style=\"text-align: right;\">\n",
       "      <th></th>\n",
       "      <th>Airport Name</th>\n",
       "      <th>Claim Type</th>\n",
       "      <th>Claim Site</th>\n",
       "      <th>Item</th>\n",
       "      <th>Claim Amount</th>\n",
       "      <th>Status</th>\n",
       "    </tr>\n",
       "    <tr>\n",
       "      <th>Claim Number</th>\n",
       "      <th></th>\n",
       "      <th></th>\n",
       "      <th></th>\n",
       "      <th></th>\n",
       "      <th></th>\n",
       "      <th></th>\n",
       "    </tr>\n",
       "  </thead>\n",
       "  <tbody>\n",
       "    <tr>\n",
       "      <th>0909802M</th>\n",
       "      <td>Newark International Airport</td>\n",
       "      <td>Property Damage</td>\n",
       "      <td>Checkpoint</td>\n",
       "      <td>Other</td>\n",
       "      <td>350.00</td>\n",
       "      <td>Approved</td>\n",
       "    </tr>\n",
       "    <tr>\n",
       "      <th>0202445M</th>\n",
       "      <td>Lambert St. Louis International</td>\n",
       "      <td>Property Damage</td>\n",
       "      <td>Checked Baggage</td>\n",
       "      <td>Cell Phones</td>\n",
       "      <td>278.88</td>\n",
       "      <td>Settled</td>\n",
       "    </tr>\n",
       "    <tr>\n",
       "      <th>0909816M</th>\n",
       "      <td>Miami International Airport</td>\n",
       "      <td>Property Damage</td>\n",
       "      <td>Checkpoint</td>\n",
       "      <td>Luggage (all types including footlockers)</td>\n",
       "      <td>50.00</td>\n",
       "      <td>Approved</td>\n",
       "    </tr>\n",
       "    <tr>\n",
       "      <th>2005032379513</th>\n",
       "      <td>Orlando International Airport</td>\n",
       "      <td>Property Damage</td>\n",
       "      <td>Checkpoint</td>\n",
       "      <td>Baby - Strollers; car seats; playpen; etc.</td>\n",
       "      <td>84.79</td>\n",
       "      <td>Approved</td>\n",
       "    </tr>\n",
       "    <tr>\n",
       "      <th>2005032479636</th>\n",
       "      <td>Akron-Canton Regional</td>\n",
       "      <td>Passenger Property Loss</td>\n",
       "      <td>Checked Baggage</td>\n",
       "      <td>Other</td>\n",
       "      <td>459.01</td>\n",
       "      <td>Settled</td>\n",
       "    </tr>\n",
       "  </tbody>\n",
       "</table>\n",
       "</div>"
      ],
      "text/plain": [
       "                                  Airport Name               Claim Type  \\\n",
       "Claim Number                                                              \n",
       "0909802M          Newark International Airport          Property Damage   \n",
       "0202445M       Lambert St. Louis International          Property Damage   \n",
       "0909816M           Miami International Airport          Property Damage   \n",
       "2005032379513    Orlando International Airport          Property Damage   \n",
       "2005032479636            Akron-Canton Regional  Passenger Property Loss   \n",
       "\n",
       "                    Claim Site                                        Item  \\\n",
       "Claim Number                                                                 \n",
       "0909802M            Checkpoint                                       Other   \n",
       "0202445M       Checked Baggage                                 Cell Phones   \n",
       "0909816M            Checkpoint   Luggage (all types including footlockers)   \n",
       "2005032379513       Checkpoint  Baby - Strollers; car seats; playpen; etc.   \n",
       "2005032479636  Checked Baggage                                       Other   \n",
       "\n",
       "               Claim Amount    Status  \n",
       "Claim Number                           \n",
       "0909802M             350.00  Approved  \n",
       "0202445M             278.88   Settled  \n",
       "0909816M              50.00  Approved  \n",
       "2005032379513         84.79  Approved  \n",
       "2005032479636        459.01   Settled  "
      ]
     },
     "execution_count": 11,
     "metadata": {},
     "output_type": "execute_result"
    }
   ],
   "source": [
    "df.head()"
   ]
  },
  {
   "cell_type": "code",
   "execution_count": 12,
   "id": "8b7df557-3bbb-49f2-951d-0458e1e5e056",
   "metadata": {
    "tags": []
   },
   "outputs": [
    {
     "name": "stdout",
     "output_type": "stream",
     "text": [
      "<class 'pandas.core.frame.DataFrame'>\n",
      "Index: 94848 entries, 0909802M to 2009122866807\n",
      "Data columns (total 6 columns):\n",
      " #   Column        Non-Null Count  Dtype   \n",
      "---  ------        --------------  -----   \n",
      " 0   Airport Name  94848 non-null  object  \n",
      " 1   Claim Type    94848 non-null  category\n",
      " 2   Claim Site    94848 non-null  category\n",
      " 3   Item          94848 non-null  object  \n",
      " 4   Claim Amount  94848 non-null  float64 \n",
      " 5   Status        94848 non-null  category\n",
      "dtypes: category(3), float64(1), object(2)\n",
      "memory usage: 3.2+ MB\n"
     ]
    }
   ],
   "source": [
    "df.info()"
   ]
  },
  {
   "cell_type": "markdown",
   "id": "be92397c-ebcb-4dfd-8cc0-5c0dacf1020a",
   "metadata": {},
   "source": [
    "## Verify Correctness of Categories"
   ]
  },
  {
   "cell_type": "code",
   "execution_count": 13,
   "id": "2642a267-4419-4f15-baf6-79ed1f93df79",
   "metadata": {
    "tags": []
   },
   "outputs": [
    {
     "name": "stdout",
     "output_type": "stream",
     "text": [
      "Unique values in 'Claim Type':\n",
      "Index(['Employee Loss (MPCECA)', 'Motor Vehicle', 'Passenger Property Loss',\n",
      "       'Passenger Theft', 'Personal Injury', 'Property Damage'],\n",
      "      dtype='object')\n",
      "\n",
      "Unique values in 'Claim Site':\n",
      "Index(['Checked Baggage', 'Checkpoint', 'Motor Vehicle', 'Other'], dtype='object')\n",
      "\n",
      "Unique values in 'Status':\n",
      "Index(['Approved', 'Canceled', 'Denied', 'Pending response from claimant',\n",
      "       'Settled'],\n",
      "      dtype='object')\n",
      "\n"
     ]
    }
   ],
   "source": [
    "# For each categorical column, print the unique values\n",
    "categorical_columns = df.select_dtypes(include=['category']).columns\n",
    "\n",
    "for col in categorical_columns:\n",
    "    print(f\"Unique values in '{col}':\\n{df[col].cat.categories}\\n\")\n"
   ]
  },
  {
   "cell_type": "code",
   "execution_count": 14,
   "id": "2e972e7b-e28d-4951-9d42-ede180928f6c",
   "metadata": {
    "tags": []
   },
   "outputs": [
    {
     "data": {
      "text/html": [
       "<div>\n",
       "<style scoped>\n",
       "    .dataframe tbody tr th:only-of-type {\n",
       "        vertical-align: middle;\n",
       "    }\n",
       "\n",
       "    .dataframe tbody tr th {\n",
       "        vertical-align: top;\n",
       "    }\n",
       "\n",
       "    .dataframe thead th {\n",
       "        text-align: right;\n",
       "    }\n",
       "</style>\n",
       "<table border=\"1\" class=\"dataframe\">\n",
       "  <thead>\n",
       "    <tr style=\"text-align: right;\">\n",
       "      <th></th>\n",
       "      <th>Claim Amount</th>\n",
       "    </tr>\n",
       "  </thead>\n",
       "  <tbody>\n",
       "    <tr>\n",
       "      <th>count</th>\n",
       "      <td>9.484800e+04</td>\n",
       "    </tr>\n",
       "    <tr>\n",
       "      <th>mean</th>\n",
       "      <td>3.634831e+03</td>\n",
       "    </tr>\n",
       "    <tr>\n",
       "      <th>std</th>\n",
       "      <td>5.249437e+05</td>\n",
       "    </tr>\n",
       "    <tr>\n",
       "      <th>min</th>\n",
       "      <td>0.000000e+00</td>\n",
       "    </tr>\n",
       "    <tr>\n",
       "      <th>25%</th>\n",
       "      <td>6.500000e+01</td>\n",
       "    </tr>\n",
       "    <tr>\n",
       "      <th>50%</th>\n",
       "      <td>1.836900e+02</td>\n",
       "    </tr>\n",
       "    <tr>\n",
       "      <th>75%</th>\n",
       "      <td>4.806425e+02</td>\n",
       "    </tr>\n",
       "    <tr>\n",
       "      <th>max</th>\n",
       "      <td>1.250000e+08</td>\n",
       "    </tr>\n",
       "  </tbody>\n",
       "</table>\n",
       "</div>"
      ],
      "text/plain": [
       "       Claim Amount\n",
       "count  9.484800e+04\n",
       "mean   3.634831e+03\n",
       "std    5.249437e+05\n",
       "min    0.000000e+00\n",
       "25%    6.500000e+01\n",
       "50%    1.836900e+02\n",
       "75%    4.806425e+02\n",
       "max    1.250000e+08"
      ]
     },
     "execution_count": 14,
     "metadata": {},
     "output_type": "execute_result"
    }
   ],
   "source": [
    "df.describe()"
   ]
  },
  {
   "cell_type": "code",
   "execution_count": 15,
   "id": "76a59d52-80ea-49d6-95ec-ccef75e3a6c5",
   "metadata": {
    "tags": []
   },
   "outputs": [
    {
     "name": "stdout",
     "output_type": "stream",
     "text": [
      "Outliers in 'Claim Amount':\n",
      "                                                   Airport Name  \\\n",
      "Claim Number                                                      \n",
      "18966                             John F. Kennedy International   \n",
      "18614                             Orlando International Airport   \n",
      "19907                                       Tampa International   \n",
      "18671                      Chicago O'Hare International Airport   \n",
      "20106                           Cleveland Hopkins International   \n",
      "...                                                         ...   \n",
      "2010010467065                      Denver International Airport   \n",
      "2010010567127                       Miami International Airport   \n",
      "2010010567156                            McCarran International   \n",
      "2010010767270  Hartsfield-Jackson Atlanta International Airport   \n",
      "2009122866807                     John F. Kennedy International   \n",
      "\n",
      "                            Claim Type       Claim Site  \\\n",
      "Claim Number                                              \n",
      "18966                  Property Damage       Checkpoint   \n",
      "18614                  Property Damage       Checkpoint   \n",
      "19907          Passenger Property Loss       Checkpoint   \n",
      "18671                  Property Damage       Checkpoint   \n",
      "20106          Passenger Property Loss  Checked Baggage   \n",
      "...                                ...              ...   \n",
      "2010010467065  Passenger Property Loss       Checkpoint   \n",
      "2010010567127          Property Damage  Checked Baggage   \n",
      "2010010567156  Passenger Property Loss  Checked Baggage   \n",
      "2010010767270  Passenger Property Loss       Checkpoint   \n",
      "2009122866807          Property Damage       Checkpoint   \n",
      "\n",
      "                                                            Item  \\\n",
      "Claim Number                                                       \n",
      "18966                    Eyeglasses - (including contact lenses)   \n",
      "18614                                          Computer - Laptop   \n",
      "19907                    Eyeglasses - (including contact lenses)   \n",
      "18671                                          Computer - Laptop   \n",
      "20106                                             Jewelry - Fine   \n",
      "...                                                          ...   \n",
      "2010010467065                                  Computer - Laptop   \n",
      "2010010567127         Clothing - Shoes; belts; accessories; etc.   \n",
      "2010010567156                                  Cameras - Digital   \n",
      "2010010767270  Computer peripherals; MP3 Players-(iPods; etc)...   \n",
      "2009122866807                                  Computer - Laptop   \n",
      "\n",
      "               Claim Amount    Status  \n",
      "Claim Number                           \n",
      "18966               3250.04  Approved  \n",
      "18614               2000.00   Settled  \n",
      "19907               1200.00   Settled  \n",
      "18671               2342.41  Approved  \n",
      "20106               2500.00    Denied  \n",
      "...                     ...       ...  \n",
      "2010010467065       1800.00   Settled  \n",
      "2010010567127       1300.00    Denied  \n",
      "2010010567156       1603.28    Denied  \n",
      "2010010767270      18380.00    Denied  \n",
      "2009122866807       1228.95   Settled  \n",
      "\n",
      "[11184 rows x 6 columns]\n"
     ]
    }
   ],
   "source": [
    "# Calculate IQR\n",
    "Q1 = df['Claim Amount'].quantile(0.25)\n",
    "Q3 = df['Claim Amount'].quantile(0.75)\n",
    "IQR = Q3 - Q1\n",
    "\n",
    "# Define bounds for outliers\n",
    "lower_bound = Q1 - 1.5 * IQR\n",
    "upper_bound = Q3 + 1.5 * IQR\n",
    "\n",
    "# Filter out the outliers\n",
    "outliers = df[(df['Claim Amount'] < lower_bound) | (df['Claim Amount'] > upper_bound)]\n",
    "\n",
    "print(f\"Outliers in 'Claim Amount':\\n{outliers}\")\n"
   ]
  },
  {
   "cell_type": "code",
   "execution_count": 16,
   "id": "cb7b05c9-a8d5-4139-9196-3069da4e8cbb",
   "metadata": {
    "tags": []
   },
   "outputs": [
    {
     "data": {
      "text/plain": [
       "<Figure size 1000x600 with 0 Axes>"
      ]
     },
     "execution_count": 16,
     "metadata": {},
     "output_type": "execute_result"
    },
    {
     "data": {
      "text/plain": [
       "<Axes: xlabel='Claim Amount'>"
      ]
     },
     "execution_count": 16,
     "metadata": {},
     "output_type": "execute_result"
    },
    {
     "data": {
      "text/plain": [
       "Text(0.5, 1.0, 'Boxplot of Claim Amounts')"
      ]
     },
     "execution_count": 16,
     "metadata": {},
     "output_type": "execute_result"
    },
    {
     "data": {
      "image/png": "[encoded data removed]",
      "text/plain": [
       "<Figure size 1000x600 with 1 Axes>"
      ]
     },
     "metadata": {},
     "output_type": "display_data"
    },
    {
     "data": {
      "text/plain": [
       "<Figure size 1000x600 with 0 Axes>"
      ]
     },
     "execution_count": 16,
     "metadata": {},
     "output_type": "execute_result"
    },
    {
     "data": {
      "text/plain": [
       "<Axes: xlabel='Claim Amount', ylabel='Count'>"
      ]
     },
     "execution_count": 16,
     "metadata": {},
     "output_type": "execute_result"
    },
    {
     "data": {
      "text/plain": [
       "Text(0.5, 1.0, 'Histogram of Claim Amounts')"
      ]
     },
     "execution_count": 16,
     "metadata": {},
     "output_type": "execute_result"
    },
    {
     "data": {
      "text/plain": [
       "Text(0.5, 0, 'Claim Amount')"
      ]
     },
     "execution_count": 16,
     "metadata": {},
     "output_type": "execute_result"
    },
    {
     "data": {
      "text/plain": [
       "Text(0, 0.5, 'Frequency')"
      ]
     },
     "execution_count": 16,
     "metadata": {},
     "output_type": "execute_result"
    },
    {
     "data": {
      "image/png": "[encoded data removed]",
      "text/plain": [
       "<Figure size 1000x600 with 1 Axes>"
      ]
     },
     "metadata": {},
     "output_type": "display_data"
    }
   ],
   "source": [
    "# Set the aesthetic style of the plots\n",
    "sns.set_style(\"whitegrid\")\n",
    "\n",
    "# Boxplot\n",
    "plt.figure(figsize=(10, 6))\n",
    "sns.boxplot(x=df['Claim Amount'])\n",
    "plt.title('Boxplot of Claim Amounts')\n",
    "plt.show()\n",
    "\n",
    "# Histogram\n",
    "plt.figure(figsize=(10, 6))\n",
    "sns.histplot(df['Claim Amount'], bins=100, kde=True)  # KDE plots the density estimation\n",
    "plt.title('Histogram of Claim Amounts')\n",
    "plt.xlabel('Claim Amount')\n",
    "plt.ylabel('Frequency')\n",
    "plt.show()\n",
    "\n",
    "# Scatter Plot example (assuming you want to plot Claim Amounts against another variable 'X')\n",
    "# plt.figure(figsize=(10, 6))\n",
    "# plt.scatter(df['X'], df['Claim Amount'])\n",
    "# plt.title('Scatter Plot of Claim Amounts against X')\n",
    "# plt.xlabel('X')\n",
    "# plt.ylabel('Claim Amount')\n",
    "# plt.show()\n"
   ]
  },
  {
   "cell_type": "code",
   "execution_count": 17,
   "id": "4a185c5d-86a7-46b2-802e-84bb22cec132",
   "metadata": {
    "tags": []
   },
   "outputs": [
    {
     "data": {
      "text/plain": [
       "<Figure size 1000x600 with 0 Axes>"
      ]
     },
     "execution_count": 17,
     "metadata": {},
     "output_type": "execute_result"
    },
    {
     "data": {
      "text/plain": [
       "<Axes: xlabel='Claim Amount', ylabel='Count'>"
      ]
     },
     "execution_count": 17,
     "metadata": {},
     "output_type": "execute_result"
    },
    {
     "data": {
      "text/plain": [
       "Text(0.5, 1.0, 'Histogram of Claim Amounts (Limited Range)')"
      ]
     },
     "execution_count": 17,
     "metadata": {},
     "output_type": "execute_result"
    },
    {
     "data": {
      "text/plain": [
       "Text(0.5, 0, 'Claim Amount')"
      ]
     },
     "execution_count": 17,
     "metadata": {},
     "output_type": "execute_result"
    },
    {
     "data": {
      "text/plain": [
       "Text(0, 0.5, 'Frequency')"
      ]
     },
     "execution_count": 17,
     "metadata": {},
     "output_type": "execute_result"
    },
    {
     "data": {
      "text/plain": [
       "(0.0, 1104.10625)"
      ]
     },
     "execution_count": 17,
     "metadata": {},
     "output_type": "execute_result"
    },
    {
     "data": {
      "image/png": "[encoded data removed]",
      "text/plain": [
       "<Figure size 1000x600 with 1 Axes>"
      ]
     },
     "metadata": {},
     "output_type": "display_data"
    },
    {
     "data": {
      "text/plain": [
       "<Figure size 1000x600 with 0 Axes>"
      ]
     },
     "execution_count": 17,
     "metadata": {},
     "output_type": "execute_result"
    },
    {
     "data": {
      "text/plain": [
       "<Axes: xlabel='Claim Amount', ylabel='Count'>"
      ]
     },
     "execution_count": 17,
     "metadata": {},
     "output_type": "execute_result"
    },
    {
     "data": {
      "text/plain": [
       "Text(0.5, 1.0, 'Histogram of Claim Amounts (Log Scale)')"
      ]
     },
     "execution_count": 17,
     "metadata": {},
     "output_type": "execute_result"
    },
    {
     "data": {
      "text/plain": [
       "Text(0.5, 0, 'Claim Amount (log scale)')"
      ]
     },
     "execution_count": 17,
     "metadata": {},
     "output_type": "execute_result"
    },
    {
     "data": {
      "text/plain": [
       "Text(0, 0.5, 'Frequency')"
      ]
     },
     "execution_count": 17,
     "metadata": {},
     "output_type": "execute_result"
    },
    {
     "data": {
      "image/png": "[encoded data removed]",
      "text/plain": [
       "<Figure size 1000x600 with 1 Axes>"
      ]
     },
     "metadata": {},
     "output_type": "display_data"
    }
   ],
   "source": [
    "import matplotlib.pyplot as plt\n",
    "import seaborn as sns\n",
    "\n",
    "# Set the aesthetic style of the plots\n",
    "sns.set_style(\"whitegrid\")\n",
    "\n",
    "# Create a histogram with a limited x-axis\n",
    "plt.figure(figsize=(10, 6))\n",
    "sns.histplot(df[df['Claim Amount'] <= upper_bound]['Claim Amount'], bins=50) # Adjust 'upper_bound' as needed\n",
    "plt.title('Histogram of Claim Amounts (Limited Range)')\n",
    "plt.xlabel('Claim Amount')\n",
    "plt.ylabel('Frequency')\n",
    "plt.xlim(0, upper_bound)  # Set the upper limit for x-axis\n",
    "plt.show()\n",
    "\n",
    "# Create a histogram with log transformation\n",
    "plt.figure(figsize=(10, 6))\n",
    "# Add a small constant to avoid log(0) issue\n",
    "sns.histplot(df['Claim Amount'] + 1, bins=50, log_scale=True)\n",
    "plt.title('Histogram of Claim Amounts (Log Scale)')\n",
    "plt.xlabel('Claim Amount (log scale)')\n",
    "plt.ylabel('Frequency')\n",
    "plt.show()\n"
   ]
  },
  {
   "cell_type": "code",
   "execution_count": 18,
   "id": "bea350d1-34db-4601-8e72-8d6e57080e4d",
   "metadata": {
    "tags": []
   },
   "outputs": [
    {
     "data": {
      "text/html": [
       "<div>\n",
       "<style scoped>\n",
       "    .dataframe tbody tr th:only-of-type {\n",
       "        vertical-align: middle;\n",
       "    }\n",
       "\n",
       "    .dataframe tbody tr th {\n",
       "        vertical-align: top;\n",
       "    }\n",
       "\n",
       "    .dataframe thead th {\n",
       "        text-align: right;\n",
       "    }\n",
       "</style>\n",
       "<table border=\"1\" class=\"dataframe\">\n",
       "  <thead>\n",
       "    <tr style=\"text-align: right;\">\n",
       "      <th></th>\n",
       "      <th>Claim Amount</th>\n",
       "    </tr>\n",
       "  </thead>\n",
       "  <tbody>\n",
       "    <tr>\n",
       "      <th>count</th>\n",
       "      <td>9.484800e+04</td>\n",
       "    </tr>\n",
       "    <tr>\n",
       "      <th>mean</th>\n",
       "      <td>3.634831e+03</td>\n",
       "    </tr>\n",
       "    <tr>\n",
       "      <th>std</th>\n",
       "      <td>5.249437e+05</td>\n",
       "    </tr>\n",
       "    <tr>\n",
       "      <th>min</th>\n",
       "      <td>0.000000e+00</td>\n",
       "    </tr>\n",
       "    <tr>\n",
       "      <th>25%</th>\n",
       "      <td>6.500000e+01</td>\n",
       "    </tr>\n",
       "    <tr>\n",
       "      <th>50%</th>\n",
       "      <td>1.836900e+02</td>\n",
       "    </tr>\n",
       "    <tr>\n",
       "      <th>75%</th>\n",
       "      <td>4.806425e+02</td>\n",
       "    </tr>\n",
       "    <tr>\n",
       "      <th>max</th>\n",
       "      <td>1.250000e+08</td>\n",
       "    </tr>\n",
       "  </tbody>\n",
       "</table>\n",
       "</div>"
      ],
      "text/plain": [
       "       Claim Amount\n",
       "count  9.484800e+04\n",
       "mean   3.634831e+03\n",
       "std    5.249437e+05\n",
       "min    0.000000e+00\n",
       "25%    6.500000e+01\n",
       "50%    1.836900e+02\n",
       "75%    4.806425e+02\n",
       "max    1.250000e+08"
      ]
     },
     "execution_count": 18,
     "metadata": {},
     "output_type": "execute_result"
    }
   ],
   "source": [
    "df.describe()"
   ]
  },
  {
   "cell_type": "code",
   "execution_count": 19,
   "id": "c9422112-5a5c-4517-b5ae-c49ddf6fe7e2",
   "metadata": {
    "tags": []
   },
   "outputs": [],
   "source": [
    "def log_transform_claim_amount(df, column_name='Claim Amount'):\n",
    "    \"\"\"\n",
    "    Apply a log transformation to the 'Claim Amount' column of the DataFrame.\n",
    "\n",
    "    Parameters:\n",
    "    df (pandas.DataFrame): The DataFrame containing the 'Claim Amount' column.\n",
    "    column_name (str): The name of the column to transform (default is 'Claim Amount').\n",
    "\n",
    "    Returns:\n",
    "    pandas.DataFrame: A new DataFrame with the log-transformed 'Claim Amount'.\n",
    "    \"\"\"\n",
    "\n",
    "    # Copy the DataFrame to avoid changes to the original data\n",
    "    transformed_df = df.copy()\n",
    "    \n",
    "    # Check if the column exists in the DataFrame\n",
    "    if column_name in transformed_df.columns:\n",
    "        # Add 1 to the column values to avoid log(0)\n",
    "        transformed_df[column_name] = np.log1p(transformed_df[column_name])\n",
    "    else:\n",
    "        raise ValueError(f\"The column '{column_name}' is not in the DataFrame.\")\n",
    "    \n",
    "    return transformed_df\n",
    "\n",
    "# Usage:\n",
    "# Assuming 'df' is your original DataFrame\n",
    "cleaned_df = log_transform_claim_amount(df)\n"
   ]
  },
  {
   "cell_type": "code",
   "execution_count": 20,
   "id": "6158d36a-850e-4376-ae9e-af2d3ff23242",
   "metadata": {
    "tags": []
   },
   "outputs": [
    {
     "data": {
      "text/html": [
       "<div>\n",
       "<style scoped>\n",
       "    .dataframe tbody tr th:only-of-type {\n",
       "        vertical-align: middle;\n",
       "    }\n",
       "\n",
       "    .dataframe tbody tr th {\n",
       "        vertical-align: top;\n",
       "    }\n",
       "\n",
       "    .dataframe thead th {\n",
       "        text-align: right;\n",
       "    }\n",
       "</style>\n",
       "<table border=\"1\" class=\"dataframe\">\n",
       "  <thead>\n",
       "    <tr style=\"text-align: right;\">\n",
       "      <th></th>\n",
       "      <th>Claim Amount</th>\n",
       "    </tr>\n",
       "  </thead>\n",
       "  <tbody>\n",
       "    <tr>\n",
       "      <th>count</th>\n",
       "      <td>94848.000000</td>\n",
       "    </tr>\n",
       "    <tr>\n",
       "      <th>mean</th>\n",
       "      <td>5.213440</td>\n",
       "    </tr>\n",
       "    <tr>\n",
       "      <th>std</th>\n",
       "      <td>1.504599</td>\n",
       "    </tr>\n",
       "    <tr>\n",
       "      <th>min</th>\n",
       "      <td>0.000000</td>\n",
       "    </tr>\n",
       "    <tr>\n",
       "      <th>25%</th>\n",
       "      <td>4.189655</td>\n",
       "    </tr>\n",
       "    <tr>\n",
       "      <th>50%</th>\n",
       "      <td>5.218679</td>\n",
       "    </tr>\n",
       "    <tr>\n",
       "      <th>75%</th>\n",
       "      <td>6.177202</td>\n",
       "    </tr>\n",
       "    <tr>\n",
       "      <th>max</th>\n",
       "      <td>18.643824</td>\n",
       "    </tr>\n",
       "  </tbody>\n",
       "</table>\n",
       "</div>"
      ],
      "text/plain": [
       "       Claim Amount\n",
       "count  94848.000000\n",
       "mean       5.213440\n",
       "std        1.504599\n",
       "min        0.000000\n",
       "25%        4.189655\n",
       "50%        5.218679\n",
       "75%        6.177202\n",
       "max       18.643824"
      ]
     },
     "execution_count": 20,
     "metadata": {},
     "output_type": "execute_result"
    }
   ],
   "source": [
    "cleaned_df.describe()"
   ]
  },
  {
   "cell_type": "code",
   "execution_count": 21,
   "id": "b859e9d9-de54-432f-96e1-0425836270c8",
   "metadata": {
    "tags": []
   },
   "outputs": [
    {
     "data": {
      "text/html": [
       "<div>\n",
       "<style scoped>\n",
       "    .dataframe tbody tr th:only-of-type {\n",
       "        vertical-align: middle;\n",
       "    }\n",
       "\n",
       "    .dataframe tbody tr th {\n",
       "        vertical-align: top;\n",
       "    }\n",
       "\n",
       "    .dataframe thead th {\n",
       "        text-align: right;\n",
       "    }\n",
       "</style>\n",
       "<table border=\"1\" class=\"dataframe\">\n",
       "  <thead>\n",
       "    <tr style=\"text-align: right;\">\n",
       "      <th></th>\n",
       "      <th>Airport Name</th>\n",
       "      <th>Claim Type</th>\n",
       "      <th>Claim Site</th>\n",
       "      <th>Item</th>\n",
       "      <th>Claim Amount</th>\n",
       "      <th>Status</th>\n",
       "    </tr>\n",
       "    <tr>\n",
       "      <th>Claim Number</th>\n",
       "      <th></th>\n",
       "      <th></th>\n",
       "      <th></th>\n",
       "      <th></th>\n",
       "      <th></th>\n",
       "      <th></th>\n",
       "    </tr>\n",
       "  </thead>\n",
       "  <tbody>\n",
       "    <tr>\n",
       "      <th>0909802M</th>\n",
       "      <td>Newark International Airport</td>\n",
       "      <td>Property Damage</td>\n",
       "      <td>Checkpoint</td>\n",
       "      <td>Other</td>\n",
       "      <td>5.860786</td>\n",
       "      <td>Approved</td>\n",
       "    </tr>\n",
       "    <tr>\n",
       "      <th>0202445M</th>\n",
       "      <td>Lambert St. Louis International</td>\n",
       "      <td>Property Damage</td>\n",
       "      <td>Checked Baggage</td>\n",
       "      <td>Cell Phones</td>\n",
       "      <td>5.634361</td>\n",
       "      <td>Settled</td>\n",
       "    </tr>\n",
       "    <tr>\n",
       "      <th>0909816M</th>\n",
       "      <td>Miami International Airport</td>\n",
       "      <td>Property Damage</td>\n",
       "      <td>Checkpoint</td>\n",
       "      <td>Luggage (all types including footlockers)</td>\n",
       "      <td>3.931826</td>\n",
       "      <td>Approved</td>\n",
       "    </tr>\n",
       "    <tr>\n",
       "      <th>2005032379513</th>\n",
       "      <td>Orlando International Airport</td>\n",
       "      <td>Property Damage</td>\n",
       "      <td>Checkpoint</td>\n",
       "      <td>Baby - Strollers; car seats; playpen; etc.</td>\n",
       "      <td>4.451902</td>\n",
       "      <td>Approved</td>\n",
       "    </tr>\n",
       "    <tr>\n",
       "      <th>2005032479636</th>\n",
       "      <td>Akron-Canton Regional</td>\n",
       "      <td>Passenger Property Loss</td>\n",
       "      <td>Checked Baggage</td>\n",
       "      <td>Other</td>\n",
       "      <td>6.131248</td>\n",
       "      <td>Settled</td>\n",
       "    </tr>\n",
       "  </tbody>\n",
       "</table>\n",
       "</div>"
      ],
      "text/plain": [
       "                                  Airport Name               Claim Type  \\\n",
       "Claim Number                                                              \n",
       "0909802M          Newark International Airport          Property Damage   \n",
       "0202445M       Lambert St. Louis International          Property Damage   \n",
       "0909816M           Miami International Airport          Property Damage   \n",
       "2005032379513    Orlando International Airport          Property Damage   \n",
       "2005032479636            Akron-Canton Regional  Passenger Property Loss   \n",
       "\n",
       "                    Claim Site                                        Item  \\\n",
       "Claim Number                                                                 \n",
       "0909802M            Checkpoint                                       Other   \n",
       "0202445M       Checked Baggage                                 Cell Phones   \n",
       "0909816M            Checkpoint   Luggage (all types including footlockers)   \n",
       "2005032379513       Checkpoint  Baby - Strollers; car seats; playpen; etc.   \n",
       "2005032479636  Checked Baggage                                       Other   \n",
       "\n",
       "               Claim Amount    Status  \n",
       "Claim Number                           \n",
       "0909802M           5.860786  Approved  \n",
       "0202445M           5.634361   Settled  \n",
       "0909816M           3.931826  Approved  \n",
       "2005032379513      4.451902  Approved  \n",
       "2005032479636      6.131248   Settled  "
      ]
     },
     "execution_count": 21,
     "metadata": {},
     "output_type": "execute_result"
    }
   ],
   "source": [
    "cleaned_df.head()"
   ]
  },
  {
   "cell_type": "code",
   "execution_count": 22,
   "id": "1fb5a968-9f2d-4ab5-8609-371997edaa39",
   "metadata": {
    "tags": []
   },
   "outputs": [
    {
     "data": {
      "text/html": [
       "<div>\n",
       "<style scoped>\n",
       "    .dataframe tbody tr th:only-of-type {\n",
       "        vertical-align: middle;\n",
       "    }\n",
       "\n",
       "    .dataframe tbody tr th {\n",
       "        vertical-align: top;\n",
       "    }\n",
       "\n",
       "    .dataframe thead th {\n",
       "        text-align: right;\n",
       "    }\n",
       "</style>\n",
       "<table border=\"1\" class=\"dataframe\">\n",
       "  <thead>\n",
       "    <tr style=\"text-align: right;\">\n",
       "      <th></th>\n",
       "      <th>Airport Name</th>\n",
       "      <th>Claim Type</th>\n",
       "      <th>Claim Site</th>\n",
       "      <th>Item</th>\n",
       "      <th>Claim Amount</th>\n",
       "      <th>Status</th>\n",
       "    </tr>\n",
       "    <tr>\n",
       "      <th>Claim Number</th>\n",
       "      <th></th>\n",
       "      <th></th>\n",
       "      <th></th>\n",
       "      <th></th>\n",
       "      <th></th>\n",
       "      <th></th>\n",
       "    </tr>\n",
       "  </thead>\n",
       "  <tbody>\n",
       "    <tr>\n",
       "      <th>0909802M</th>\n",
       "      <td>Newark International Airport</td>\n",
       "      <td>Property Damage</td>\n",
       "      <td>Checkpoint</td>\n",
       "      <td>Other</td>\n",
       "      <td>350.00</td>\n",
       "      <td>Approved</td>\n",
       "    </tr>\n",
       "    <tr>\n",
       "      <th>0202445M</th>\n",
       "      <td>Lambert St. Louis International</td>\n",
       "      <td>Property Damage</td>\n",
       "      <td>Checked Baggage</td>\n",
       "      <td>Cell Phones</td>\n",
       "      <td>278.88</td>\n",
       "      <td>Settled</td>\n",
       "    </tr>\n",
       "    <tr>\n",
       "      <th>0909816M</th>\n",
       "      <td>Miami International Airport</td>\n",
       "      <td>Property Damage</td>\n",
       "      <td>Checkpoint</td>\n",
       "      <td>Luggage (all types including footlockers)</td>\n",
       "      <td>50.00</td>\n",
       "      <td>Approved</td>\n",
       "    </tr>\n",
       "    <tr>\n",
       "      <th>2005032379513</th>\n",
       "      <td>Orlando International Airport</td>\n",
       "      <td>Property Damage</td>\n",
       "      <td>Checkpoint</td>\n",
       "      <td>Baby - Strollers; car seats; playpen; etc.</td>\n",
       "      <td>84.79</td>\n",
       "      <td>Approved</td>\n",
       "    </tr>\n",
       "    <tr>\n",
       "      <th>2005032479636</th>\n",
       "      <td>Akron-Canton Regional</td>\n",
       "      <td>Passenger Property Loss</td>\n",
       "      <td>Checked Baggage</td>\n",
       "      <td>Other</td>\n",
       "      <td>459.01</td>\n",
       "      <td>Settled</td>\n",
       "    </tr>\n",
       "  </tbody>\n",
       "</table>\n",
       "</div>"
      ],
      "text/plain": [
       "                                  Airport Name               Claim Type  \\\n",
       "Claim Number                                                              \n",
       "0909802M          Newark International Airport          Property Damage   \n",
       "0202445M       Lambert St. Louis International          Property Damage   \n",
       "0909816M           Miami International Airport          Property Damage   \n",
       "2005032379513    Orlando International Airport          Property Damage   \n",
       "2005032479636            Akron-Canton Regional  Passenger Property Loss   \n",
       "\n",
       "                    Claim Site                                        Item  \\\n",
       "Claim Number                                                                 \n",
       "0909802M            Checkpoint                                       Other   \n",
       "0202445M       Checked Baggage                                 Cell Phones   \n",
       "0909816M            Checkpoint   Luggage (all types including footlockers)   \n",
       "2005032379513       Checkpoint  Baby - Strollers; car seats; playpen; etc.   \n",
       "2005032479636  Checked Baggage                                       Other   \n",
       "\n",
       "               Claim Amount    Status  \n",
       "Claim Number                           \n",
       "0909802M             350.00  Approved  \n",
       "0202445M             278.88   Settled  \n",
       "0909816M              50.00  Approved  \n",
       "2005032379513         84.79  Approved  \n",
       "2005032479636        459.01   Settled  "
      ]
     },
     "execution_count": 22,
     "metadata": {},
     "output_type": "execute_result"
    }
   ],
   "source": [
    "df.head()"
   ]
  },
  {
   "cell_type": "markdown",
   "id": "88224382-94cf-48ec-a044-1c7b72505820",
   "metadata": {},
   "source": [
    "# 1. What is the most common type of insurance claim?"
   ]
  },
  {
   "cell_type": "code",
   "execution_count": 23,
   "id": "8fa5b21a-cfe7-4f4b-af27-688884b1a576",
   "metadata": {
    "tags": []
   },
   "outputs": [
    {
     "name": "stdout",
     "output_type": "stream",
     "text": [
      "The most common type of insurance claim is: Passenger Property Loss\n"
     ]
    }
   ],
   "source": [
    "# Assuming 'df' is your DataFrame and 'Claim Type' is the column of interest\n",
    "most_common_claim_type = df['Claim Type'].value_counts().idxmax()\n",
    "\n",
    "# Print the most common claim type\n",
    "print(f\"The most common type of insurance claim is: {most_common_claim_type}\")\n"
   ]
  },
  {
   "cell_type": "code",
   "execution_count": 24,
   "id": "0a7e1a6c-89b1-4459-a38a-84f021e2dc52",
   "metadata": {
    "tags": []
   },
   "outputs": [
    {
     "name": "stdout",
     "output_type": "stream",
     "text": [
      "Claim Type\n",
      "Passenger Property Loss    60265\n",
      "Property Damage            33730\n",
      "Passenger Theft              331\n",
      "Employee Loss (MPCECA)       308\n",
      "Personal Injury              208\n",
      "Motor Vehicle                  6\n",
      "Name: count, dtype: int64\n"
     ]
    }
   ],
   "source": [
    "# Get the distribution of all claim types\n",
    "claim_type_distribution = df['Claim Type'].value_counts()\n",
    "\n",
    "# Print the distribution\n",
    "print(claim_type_distribution)\n"
   ]
  },
  {
   "cell_type": "code",
   "execution_count": 25,
   "id": "5178776e-ca49-4584-9ff4-2f269fb4ef43",
   "metadata": {
    "tags": []
   },
   "outputs": [
    {
     "data": {
      "text/plain": [
       "<Figure size 1000x600 with 0 Axes>"
      ]
     },
     "execution_count": 25,
     "metadata": {},
     "output_type": "execute_result"
    },
    {
     "data": {
      "text/plain": [
       "<Axes: xlabel='Claim Type'>"
      ]
     },
     "execution_count": 25,
     "metadata": {},
     "output_type": "execute_result"
    },
    {
     "data": {
      "text/plain": [
       "(array([0, 1, 2, 3, 4, 5]),\n",
       " [Text(0, 0, 'Employee Loss (MPCECA)'),\n",
       "  Text(1, 0, 'Motor Vehicle'),\n",
       "  Text(2, 0, 'Passenger Property Loss'),\n",
       "  Text(3, 0, 'Passenger Theft'),\n",
       "  Text(4, 0, 'Personal Injury'),\n",
       "  Text(5, 0, 'Property Damage')])"
      ]
     },
     "execution_count": 25,
     "metadata": {},
     "output_type": "execute_result"
    },
    {
     "data": {
      "text/plain": [
       "Text(0.5, 1.0, 'Frequency of Each Claim Type')"
      ]
     },
     "execution_count": 25,
     "metadata": {},
     "output_type": "execute_result"
    },
    {
     "data": {
      "text/plain": [
       "Text(0.5, 0, 'Claim Type')"
      ]
     },
     "execution_count": 25,
     "metadata": {},
     "output_type": "execute_result"
    },
    {
     "data": {
      "text/plain": [
       "Text(0, 0.5, 'Frequency')"
      ]
     },
     "execution_count": 25,
     "metadata": {},
     "output_type": "execute_result"
    },
    {
     "data": {
      "image/png": "[encoded data removed]",
      "text/plain": [
       "<Figure size 1000x600 with 1 Axes>"
      ]
     },
     "metadata": {},
     "output_type": "display_data"
    }
   ],
   "source": [
    "# Count the frequency of each claim type\n",
    "claim_type_counts = df['Claim Type'].value_counts()\n",
    "\n",
    "# Plot\n",
    "plt.figure(figsize=(10, 6))\n",
    "sns.barplot(x=claim_type_counts.index, y=claim_type_counts.values, palette=\"viridis\")\n",
    "plt.xticks(rotation=45)\n",
    "plt.title('Frequency of Each Claim Type')\n",
    "plt.xlabel('Claim Type')\n",
    "plt.ylabel('Frequency')\n",
    "plt.show()\n"
   ]
  },
  {
   "cell_type": "markdown",
   "id": "4db36c62-3b98-4861-89dc-7d82928ea0b5",
   "metadata": {},
   "source": [
    "# 2. Which claim site within the airport are claims most commonly filed for?"
   ]
  },
  {
   "cell_type": "code",
   "execution_count": 26,
   "id": "dcaeb5f4-eb94-4540-b520-33707706bd87",
   "metadata": {
    "tags": []
   },
   "outputs": [
    {
     "name": "stdout",
     "output_type": "stream",
     "text": [
      "The most common claim site within the airport is: Checked Baggage\n",
      "\n",
      "Claim Site\n",
      "Checked Baggage    80553\n",
      "Checkpoint         14013\n",
      "Other                280\n",
      "Motor Vehicle          2\n",
      "Name: count, dtype: int64\n"
     ]
    }
   ],
   "source": [
    "# Get the count of claims for each claim site\n",
    "claim_site_counts = df['Claim Site'].value_counts()\n",
    "\n",
    "# Identify the most common claim site\n",
    "most_common_claim_site = claim_site_counts.idxmax()\n",
    "\n",
    "# Print the most common claim site\n",
    "print(f\"The most common claim site within the airport is: {most_common_claim_site}\")\n",
    "print()\n",
    "# If you want to see the counts for all claim sites\n",
    "print(claim_site_counts)\n"
   ]
  },
  {
   "cell_type": "code",
   "execution_count": 27,
   "id": "b892edc1-48a8-4311-aa29-417132612b53",
   "metadata": {
    "tags": []
   },
   "outputs": [
    {
     "data": {
      "text/plain": [
       "<Figure size 1000x600 with 0 Axes>"
      ]
     },
     "execution_count": 27,
     "metadata": {},
     "output_type": "execute_result"
    },
    {
     "data": {
      "text/plain": [
       "<Axes: xlabel='Claim Site'>"
      ]
     },
     "execution_count": 27,
     "metadata": {},
     "output_type": "execute_result"
    },
    {
     "data": {
      "text/plain": [
       "(array([0, 1, 2, 3]),\n",
       " [Text(0, 0, 'Checked Baggage'),\n",
       "  Text(1, 0, 'Checkpoint'),\n",
       "  Text(2, 0, 'Motor Vehicle'),\n",
       "  Text(3, 0, 'Other')])"
      ]
     },
     "execution_count": 27,
     "metadata": {},
     "output_type": "execute_result"
    },
    {
     "data": {
      "text/plain": [
       "Text(0.5, 1.0, 'Most Common Claim Sites Within the Airport')"
      ]
     },
     "execution_count": 27,
     "metadata": {},
     "output_type": "execute_result"
    },
    {
     "data": {
      "text/plain": [
       "Text(0.5, 0, 'Claim Site')"
      ]
     },
     "execution_count": 27,
     "metadata": {},
     "output_type": "execute_result"
    },
    {
     "data": {
      "text/plain": [
       "Text(0, 0.5, 'Number of Claims')"
      ]
     },
     "execution_count": 27,
     "metadata": {},
     "output_type": "execute_result"
    },
    {
     "data": {
      "image/png": "[encoded data removed]",
      "text/plain": [
       "<Figure size 1000x600 with 1 Axes>"
      ]
     },
     "metadata": {},
     "output_type": "display_data"
    }
   ],
   "source": [
    "# Count the frequency of claims at each site\n",
    "claim_site_counts = df['Claim Site'].value_counts()\n",
    "\n",
    "# Plot\n",
    "plt.figure(figsize=(10, 6))\n",
    "sns.barplot(x=claim_site_counts.index, y=claim_site_counts.values, palette=\"rocket\")\n",
    "plt.xticks(rotation=45)\n",
    "plt.title('Most Common Claim Sites Within the Airport')\n",
    "plt.xlabel('Claim Site')\n",
    "plt.ylabel('Number of Claims')\n",
    "plt.show()\n"
   ]
  },
  {
   "cell_type": "markdown",
   "id": "e957a519-ba52-4ddb-9f6b-be011950a9dd",
   "metadata": {},
   "source": [
    "# 3. What type of claim is made most at each claim site?"
   ]
  },
  {
   "cell_type": "code",
   "execution_count": 28,
   "id": "b81f74ac",
   "metadata": {},
   "outputs": [
    {
     "data": {
      "text/plain": [
       "['Checkpoint', 'Checked Baggage', 'Other', 'Motor Vehicle']\n",
       "Categories (4, object): ['Checked Baggage', 'Checkpoint', 'Motor Vehicle', 'Other']"
      ]
     },
     "execution_count": 28,
     "metadata": {},
     "output_type": "execute_result"
    }
   ],
   "source": [
    "df['Claim Site'].unique()"
   ]
  },
  {
   "cell_type": "code",
   "execution_count": 29,
   "id": "9601ddd1-a385-4b95-a144-ea8a1abf8404",
   "metadata": {
    "tags": []
   },
   "outputs": [
    {
     "name": "stdout",
     "output_type": "stream",
     "text": [
      "The most common claim type at each claim site:\n",
      "\n",
      "Claim Site\n",
      "Checked Baggage    Passenger Property Loss\n",
      "Checkpoint                 Property Damage\n",
      "Motor Vehicle      Passenger Property Loss\n",
      "Other              Passenger Property Loss\n",
      "Name: Claim Type, dtype: object\n"
     ]
    }
   ],
   "source": [
    "# Group by 'Claim Site' and then get the most common 'Claim Type' within each group\n",
    "most_common_types_by_site = df.groupby('Claim Site')['Claim Type'].agg(lambda x: x.value_counts().idxmax())\n",
    "\n",
    "# Print the most common claim type at each claim site\n",
    "print(\"The most common claim type at each claim site:\")\n",
    "print()\n",
    "print(most_common_types_by_site)\n"
   ]
  },
  {
   "cell_type": "code",
   "execution_count": 30,
   "id": "1dc4da5f-8524-4428-af2b-f70d8874ff58",
   "metadata": {
    "tags": []
   },
   "outputs": [
    {
     "data": {
      "text/plain": [
       "<Axes: xlabel='Claim Site'>"
      ]
     },
     "execution_count": 30,
     "metadata": {},
     "output_type": "execute_result"
    },
    {
     "data": {
      "text/plain": [
       "Text(0.5, 1.0, 'Claim Type Distribution by Claim Site')"
      ]
     },
     "execution_count": 30,
     "metadata": {},
     "output_type": "execute_result"
    },
    {
     "data": {
      "text/plain": [
       "Text(0.5, 0, 'Claim Site')"
      ]
     },
     "execution_count": 30,
     "metadata": {},
     "output_type": "execute_result"
    },
    {
     "data": {
      "text/plain": [
       "Text(0, 0.5, 'Number of Claims')"
      ]
     },
     "execution_count": 30,
     "metadata": {},
     "output_type": "execute_result"
    },
    {
     "data": {
      "text/plain": [
       "(array([0, 1, 2, 3]),\n",
       " [Text(0, 0, 'Checked Baggage'),\n",
       "  Text(1, 0, 'Checkpoint'),\n",
       "  Text(2, 0, 'Motor Vehicle'),\n",
       "  Text(3, 0, 'Other')])"
      ]
     },
     "execution_count": 30,
     "metadata": {},
     "output_type": "execute_result"
    },
    {
     "data": {
      "text/plain": [
       "<matplotlib.legend.Legend at 0x16ba4936890>"
      ]
     },
     "execution_count": 30,
     "metadata": {},
     "output_type": "execute_result"
    },
    {
     "data": {
      "image/png": "[encoded data removed]",
      "text/plain": [
       "<Figure size 1000x700 with 1 Axes>"
      ]
     },
     "metadata": {},
     "output_type": "display_data"
    }
   ],
   "source": [
    "# Prepare data: count the occurrences of each claim type within each claim site\n",
    "claim_data = df.groupby(['Claim Site', 'Claim Type']).size().unstack()\n",
    "\n",
    "# Plotting\n",
    "claim_data.plot(kind='bar', figsize=(10, 7))\n",
    "\n",
    "# Adding title and labels\n",
    "plt.title('Claim Type Distribution by Claim Site')\n",
    "plt.xlabel('Claim Site')\n",
    "plt.ylabel('Number of Claims')\n",
    "\n",
    "# Rotating x-axis labels for better readability\n",
    "plt.xticks(rotation=45)\n",
    "\n",
    "# Show plot\n",
    "plt.legend(title='Claim Type')\n",
    "plt.show()"
   ]
  },
  {
   "cell_type": "markdown",
   "id": "bed31c69-30f2-4b2f-80b2-c1add2b803f1",
   "metadata": {},
   "source": [
    "# 4. What is the typical claim amount?"
   ]
  },
  {
   "cell_type": "markdown",
   "id": "a4beafab-97b0-4b87-b0cc-ce8172f2d161",
   "metadata": {},
   "source": [
    "I chose the median as the measure for the typical claim amount because it is the value that sits in the middle of the dataset when it is ordered. The median is often a better representation of what might be considered \"typical,\" especially if the data contains outliers. Outliers can skew the mean, making it less representative of the central tendency of the data. Therefore, the median is generally more robust in the presence of extreme values.\n"
   ]
  },
  {
   "cell_type": "code",
   "execution_count": 31,
   "id": "803b5803-b7e1-4eea-9505-ac66ed1d1e7f",
   "metadata": {
    "tags": []
   },
   "outputs": [
    {
     "name": "stdout",
     "output_type": "stream",
     "text": [
      "The median claim amount is: $183.69\n"
     ]
    }
   ],
   "source": [
    "# Calculate the median claim amount\n",
    "median_claim_amount = df['Claim Amount'].median()\n",
    "\n",
    "# Print the typical claim amounts\n",
    "print(f\"The median claim amount is: ${median_claim_amount:.2f}\")\n"
   ]
  },
  {
   "cell_type": "code",
   "execution_count": 32,
   "id": "421b2cea-9aaa-4658-a716-0fe9c53c03db",
   "metadata": {
    "tags": []
   },
   "outputs": [
    {
     "data": {
      "text/plain": [
       "<Figure size 1000x800 with 0 Axes>"
      ]
     },
     "execution_count": 32,
     "metadata": {},
     "output_type": "execute_result"
    },
    {
     "data": {
      "text/plain": [
       "{'whiskers': [<matplotlib.lines.Line2D at 0x16ba7929750>,\n",
       "  <matplotlib.lines.Line2D at 0x16ba48f7a90>],\n",
       " 'caps': [<matplotlib.lines.Line2D at 0x16ba7148310>,\n",
       "  <matplotlib.lines.Line2D at 0x16ba71259d0>],\n",
       " 'boxes': [<matplotlib.lines.Line2D at 0x16ba4965610>],\n",
       " 'medians': [<matplotlib.lines.Line2D at 0x16ba7116a10>],\n",
       " 'fliers': [<matplotlib.lines.Line2D at 0x16ba7275210>],\n",
       " 'means': []}"
      ]
     },
     "execution_count": 32,
     "metadata": {},
     "output_type": "execute_result"
    },
    {
     "data": {
      "text/plain": [
       "Text(0.5, 1.0, 'Box Plot of Claim Amount')"
      ]
     },
     "execution_count": 32,
     "metadata": {},
     "output_type": "execute_result"
    },
    {
     "data": {
      "text/plain": [
       "Text(0, 0.5, 'Claim Amount (log scale)')"
      ]
     },
     "execution_count": 32,
     "metadata": {},
     "output_type": "execute_result"
    },
    {
     "data": {
      "image/png": "[encoded data removed]",
      "text/plain": [
       "<Figure size 1000x800 with 1 Axes>"
      ]
     },
     "metadata": {},
     "output_type": "display_data"
    }
   ],
   "source": [
    "# Set figure size\n",
    "plt.figure(figsize=(10, 8))\n",
    "\n",
    "# Create a box plot with a logarithmic scale\n",
    "plt.boxplot(df['Claim Amount'], widths=0.5, showfliers=True)  # Set showfliers to False to hide outliers\n",
    "\n",
    "# Set a logarithmic scale for the Y axis\n",
    "plt.yscale('log')\n",
    "\n",
    "# Add gridlines\n",
    "plt.grid(True)\n",
    "\n",
    "# Set labels and title with increased font sizes\n",
    "plt.title('Box Plot of Claim Amount', fontsize=18)\n",
    "plt.ylabel('Claim Amount (log scale)', fontsize=14)\n",
    "\n",
    "# Show plot\n",
    "plt.show()"
   ]
  },
  {
   "cell_type": "markdown",
   "id": "c3c93cdb-98b4-4953-8045-986460bbdeae",
   "metadata": {},
   "source": [
    "# 5. What is the overall claim approval rate for the entire U.S.?"
   ]
  },
  {
   "cell_type": "code",
   "execution_count": 33,
   "id": "84f87f50-6ad5-4fa0-aa7d-a4ddada897a1",
   "metadata": {
    "tags": []
   },
   "outputs": [
    {
     "name": "stdout",
     "output_type": "stream",
     "text": [
      "The overall claim approval rate for the entire U.S. is: 24.43%\n"
     ]
    }
   ],
   "source": [
    "# Count the number of approved claims\n",
    "# Here, we assume that the status 'Approved' indicates an approved claim\n",
    "# Adjust the string 'Approved' if your data uses a different indicator for approval\n",
    "approved_claims = df['Status'].value_counts().get('Approved', 0)\n",
    "\n",
    "# Calculate the total number of claims\n",
    "total_claims = len(df)\n",
    "\n",
    "# Calculate the approval rate\n",
    "approval_rate = (approved_claims / total_claims) * 100\n",
    "\n",
    "# Print the overall claim approval rate\n",
    "print(f\"The overall claim approval rate for the entire U.S. is: {approval_rate:.2f}%\")\n"
   ]
  },
  {
   "cell_type": "code",
   "execution_count": 34,
   "id": "557fcbb4-d6a6-417f-b857-6ed02098d91a",
   "metadata": {
    "tags": []
   },
   "outputs": [
    {
     "data": {
      "text/plain": [
       "<Figure size 800x800 with 0 Axes>"
      ]
     },
     "execution_count": 34,
     "metadata": {},
     "output_type": "execute_result"
    },
    {
     "data": {
      "text/plain": [
       "([<matplotlib.patches.Wedge at 0x16ba4eae6d0>,\n",
       "  <matplotlib.patches.Wedge at 0x16ba7983810>,\n",
       "  <matplotlib.patches.Wedge at 0x16ba7980990>,\n",
       "  <matplotlib.patches.Wedge at 0x16ba7982910>,\n",
       "  <matplotlib.patches.Wedge at 0x16ba42d2550>],\n",
       " [Text(-0.5316093568853512, -0.9630116778481679, 'Denied'),\n",
       "  Text(0.9872733796508888, 0.485068318727076, 'Approved'),\n",
       "  Text(-0.2856744808859272, 1.0622570738623285, 'Settled'),\n",
       "  Text(-0.8424614859860564, 0.7072896469128938, 'Canceled'),\n",
       "  Text(-0.8426254532185251, 0.7070942975221023, 'Pending response from claimant')],\n",
       " [Text(-0.2899687401192824, -0.5252790970080915, '56.2%'),\n",
       "  Text(0.5385127525368484, 0.2645827193056778, '24.4%'),\n",
       "  Text(-0.15582244411959664, 0.5794129493794518, '19.4%'),\n",
       "  Text(-0.45952444690148525, 0.38579435286157837, '0.0%'),\n",
       "  Text(-0.4596138835737409, 0.3856877986484194, '0.0%')])"
      ]
     },
     "execution_count": 34,
     "metadata": {},
     "output_type": "execute_result"
    },
    {
     "data": {
      "text/plain": [
       "Text(0.5, 1.0, 'Claim Approval Rate')"
      ]
     },
     "execution_count": 34,
     "metadata": {},
     "output_type": "execute_result"
    },
    {
     "data": {
      "image/png": "[encoded data removed]",
      "text/plain": [
       "<Figure size 800x800 with 1 Axes>"
      ]
     },
     "metadata": {},
     "output_type": "display_data"
    }
   ],
   "source": [
    "# Calculate the proportion of each status\n",
    "status_counts = df['Status'].value_counts()\n",
    "\n",
    "# Plot\n",
    "plt.figure(figsize=(8, 8))\n",
    "plt.pie(status_counts, labels=status_counts.index, autopct='%1.1f%%', startangle=140, colors=sns.color_palette(\"tab10\"))\n",
    "plt.title('Claim Approval Rate')\n",
    "plt.show()\n"
   ]
  },
  {
   "cell_type": "code",
   "execution_count": null,
   "id": "8139ade7-1e82-4c30-b4f3-04bfa59c6e04",
   "metadata": {},
   "outputs": [],
   "source": []
  },
  {
   "cell_type": "code",
   "execution_count": null,
   "id": "3ffa833f-3dac-44d4-b635-898ae1d98b80",
   "metadata": {},
   "outputs": [],
   "source": []
  },
  {
   "cell_type": "code",
   "execution_count": null,
   "id": "65def33f-abae-458e-a6cd-dd41a1c533d3",
   "metadata": {},
   "outputs": [],
   "source": []
  },
  {
   "cell_type": "code",
   "execution_count": null,
   "id": "39afd8ac-a72d-454b-aea1-6ba1880320d4",
   "metadata": {},
   "outputs": [],
   "source": []
  }
 ],
 "metadata": {
  "kernelspec": {
   "display_name": "Python 3 (ipykernel)",
   "language": "python",
   "name": "python3"
  },
  "language_info": {
   "codemirror_mode": {
    "name": "ipython",
    "version": 3
   },
   "file_extension": ".py",
   "mimetype": "text/x-python",
   "name": "python",
   "nbconvert_exporter": "python",
   "pygments_lexer": "ipython3",
   "version": "3.11.5"
  }
 },
 "nbformat": 4,
 "nbformat_minor": 5
}
